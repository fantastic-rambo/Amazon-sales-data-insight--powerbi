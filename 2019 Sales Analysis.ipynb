{
 "cells": [
  {
   "cell_type": "code",
   "execution_count": 1,
   "id": "a59aea67",
   "metadata": {},
   "outputs": [],
   "source": [
    "import os\n",
    "import pyodbc #just installed with pip\n",
    "from dotenv import dotenv_values #import the dotenv_values function from the dotenv package\n",
    "import pandas as pd\n",
    "import warnings \n",
    "import seaborn as sns\n",
    "import matplotlib.pyplot as plt\n",
    "import numpy as np\n",
    "\n",
    "import re\n",
    "# import wget\n",
    "from forex_python.converter import CurrencyRates\n",
    "\n",
    "\n",
    "\n",
    "warnings.filterwarnings('ignore')"
   ]
  },
  {
   "cell_type": "code",
   "execution_count": 14,
   "id": "68aca8b9",
   "metadata": {},
   "outputs": [],
   "source": [
    "# Load environment variables from .env file into a dictionary\n",
    "environment_variables = dotenv_values('.env')\n",
    "\n",
    "\n",
    "# Get the values for the credentials you set in the '.env' file\n",
    "database = environment_variables.get(\"DATABASE\")\n",
    "server = environment_variables.get(\"SERVER\")\n",
    "username = environment_variables.get(\"USERNAME\")\n",
    "password = environment_variables.get(\"PASSWORD\")\n",
    "# driver = environment_variables.get(\"DRIVER\")\n",
    "\n",
    "#connection_string = \"DRIVER={ODBC Driver 17 for SQL Server};SERVER={server};DATABASE={database};UID={username};PWD={password}\"\n",
    "connection_string = \"DRIVER={ODBC Driver 17 for SQL Server};SERVER={dap-projects-database.database.windows.net};DATABASE={dapDB};UID={capstone};PWD={Z7x@8pM$2w}\""
   ]
  },
  {
   "cell_type": "code",
   "execution_count": 15,
   "id": "feb7505b",
   "metadata": {},
   "outputs": [],
   "source": [
    "# Use the connect method of the pyodbc library and pass in the connection string.\n",
    "# This will connect to the server and might take a few seconds to be complete. \n",
    "# Check your internet connection if it takes more time than necessary\n",
    "\n",
    "connection = pyodbc.connect(connection_string)\n",
    "#connection = pyodbc.connect(connection_string)\n"
   ]
  },
  {
   "cell_type": "code",
   "execution_count": 23,
   "id": "816f34b1",
   "metadata": {},
   "outputs": [],
   "source": [
    "# Define the SQL queries\n",
    "july = \"Select * from dbo.Sales_July_2019\"\n",
    "august = \"Select * from dbo.Sales_August_2019\"\n",
    "september = \"Select * from dbo.Sales_September_2019\"\n",
    "october = \"Select * from dbo.Sales_October_2019\"\n",
    "november = \"Select * from dbo.Sales_November_2019\"\n",
    "december = \"Select * from dbo.Sales_December_2019\"\n",
    "\n",
    "\n",
    "# # Read the data from the SQL queries into DataFrames\n",
    "Sales_July_2019 = pd.read_sql(july, connection)\n",
    "Sales_August_2019 = pd.read_sql(august, connection)\n",
    "Sales_September_2019 = pd.read_sql(september, connection)\n",
    "Sales_October_2019 = pd.read_sql(october, connection)\n",
    "Sales_November_2019 = pd.read_sql(november, connection)\n",
    "Sales_December_2019 = pd.read_sql(december, connection)"
   ]
  },
  {
   "cell_type": "code",
   "execution_count": 24,
   "id": "333c85fe",
   "metadata": {},
   "outputs": [],
   "source": [
    "# Saving Dataframe to csv\n",
    "\n",
    "Sales_July_2019.to_csv('Sales_July_2019.csv', index=False)\n",
    "Sales_August_2019.to_csv('Sales_August_2019.csv', index=False)\n",
    "Sales_September_2019.to_csv('Sales_September_2019.csv', index=False)\n",
    "Sales_October_2019.to_csv('Sales_October_2019.csv', index=False)\n",
    "Sales_November_2019.to_csv('Sales_November_2019.csv', index=False)\n",
    "Sales_December_2019.to_csv('Sales_December_2019.csv', index=False)"
   ]
  },
  {
   "cell_type": "code",
   "execution_count": null,
   "id": "f190ffc8",
   "metadata": {},
   "outputs": [],
   "source": []
  }
 ],
 "metadata": {
  "kernelspec": {
   "display_name": "Python 3 (ipykernel)",
   "language": "python",
   "name": "python3"
  },
  "language_info": {
   "codemirror_mode": {
    "name": "ipython",
    "version": 3
   },
   "file_extension": ".py",
   "mimetype": "text/x-python",
   "name": "python",
   "nbconvert_exporter": "python",
   "pygments_lexer": "ipython3",
   "version": "3.10.7"
  }
 },
 "nbformat": 4,
 "nbformat_minor": 5
}
